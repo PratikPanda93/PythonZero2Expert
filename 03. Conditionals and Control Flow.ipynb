{
 "cells": [
  {
   "cell_type": "markdown",
   "metadata": {},
   "source": [
    "# Topics Covered\n",
    "## Conditionals and Control Flow\n",
    "- Comparison\n",
    "- Boolean Operator\n",
    "- Conditional Statement\n",
    "- If syntax\n",
    "- else syntax\n",
    "- elif syntax"
   ]
  },
  {
   "cell_type": "markdown",
   "metadata": {},
   "source": [
    "## 1. Comparison\n",
    "Comparators. There are six:\n",
    "1.\tEqual to (==)\n",
    "2.\tNot equal to (!=)\n",
    "3.\tLess than (<)\n",
    "4.\tLess than or equal to (<=)\n",
    "5.\tGreater than (>)\n",
    "6.\tGreater than or equal to (>=)\n"
   ]
  },
  {
   "cell_type": "markdown",
   "metadata": {},
   "source": [
    "## 2. Boolean Operator\n",
    "Boolean operators aren't just evaluated from left to right. Just like with arithmetic operators, there's an order of operations for boolean operators:\n",
    "1.\tnot is evaluated first\n",
    "2.\tand is evaluated next\n",
    "3.\tor is evaluated last.\n",
    "\n",
    "For example, True or not False and False returns True.  \n",
    "Parentheses () ensure your expressions are evaluated in the order you want. Anything in parentheses is evaluated as its own unit.  \n"
   ]
  },
  {
   "cell_type": "code",
   "execution_count": null,
   "metadata": {},
   "outputs": [],
   "source": []
  }
 ],
 "metadata": {
  "kernelspec": {
   "display_name": "Python 3",
   "language": "python",
   "name": "python3"
  },
  "language_info": {
   "codemirror_mode": {
    "name": "ipython",
    "version": 3
   },
   "file_extension": ".py",
   "mimetype": "text/x-python",
   "name": "python",
   "nbconvert_exporter": "python",
   "pygments_lexer": "ipython3",
   "version": "3.6.6"
  }
 },
 "nbformat": 4,
 "nbformat_minor": 2
}
